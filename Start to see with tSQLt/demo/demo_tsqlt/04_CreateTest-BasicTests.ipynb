{
    "metadata": {
        "kernelspec": {
            "name": "SQL",
            "display_name": "SQL",
            "language": "sql"
        },
        "language_info": {
            "name": "sql",
            "version": ""
        }
    },
    "nbformat_minor": 2,
    "nbformat": 4,
    "cells": [
        {
            "cell_type": "markdown",
            "source": [
                "Clean up"
            ],
            "metadata": {
                "azdata_cell_guid": "688e6c7e-d51d-45c0-a0b5-bd850fa729c6"
            }
        },
        {
            "cell_type": "code",
            "source": [
                "USE [UnitTesting]\r\n",
                "GO\r\n",
                "DROP PROCEDURE IF EXISTS [TestBasic].[test If table dbo.Customer exists];\r\n",
                "DROP PROCEDURE IF EXISTS [TestBasic].[test If table dbo.Person exists];\r\n",
                "GO"
            ],
            "metadata": {
                "azdata_cell_guid": "eaa09145-8dd8-4d7a-9135-8182e2aa37f8"
            },
            "outputs": [],
            "execution_count": 1
        },
        {
            "cell_type": "markdown",
            "source": [
                "Create the tests"
            ],
            "metadata": {
                "azdata_cell_guid": "fc464a4e-cb05-401c-9e5e-2c701655c749"
            }
        },
        {
            "cell_type": "code",
            "source": [
                "USE [UnitTesting]\r\n",
                "GO\r\n",
                "/*\r\n",
                "Description:\r\n",
                "Test if the table dbo.Customer exists\r\n",
                "\r\n",
                "Changes:\r\n",
                "Date\t\tWho\t\t\t\t\t\tNotes\r\n",
                "----------\t---\t\t\t\t\t\t--------------------------------------------------------------\r\n",
                "10/08/2019\tSander Stad\t\t\t\tInitial test\r\n",
                "*/\r\n",
                "CREATE PROCEDURE [TestBasic].[test If table dbo.Customer exists]\r\n",
                "AS\r\n",
                "BEGIN\r\n",
                "    SET NOCOUNT ON;\r\n",
                "\r\n",
                "    ----- ASSERT -------------------------------------------------\r\n",
                "    EXEC tSQLt.AssertObjectExists @ObjectName = N'dbo.Customers'; -- This will fail because the table Customers does not exist\r\n",
                "\r\n",
                "END;\r\n",
                "GO\r\n",
                "\r\n",
                "/*\r\n",
                "Description:\r\n",
                "Test if the table dbo.Person exists\r\n",
                "\r\n",
                "Changes:\r\n",
                "Date\t\tWho\t\t\t\t\t\tNotes\r\n",
                "----------\t---\t\t\t\t\t\t--------------------------------------------------------------\r\n",
                "10/08/2019\tSander Stad\t\t\t\tInitial test\r\n",
                "*/\r\n",
                "CREATE PROCEDURE [TestBasic].[test If table dbo.Person exists]\r\n",
                "AS\r\n",
                "BEGIN\r\n",
                "    SET NOCOUNT ON;\r\n",
                "\r\n",
                "    ----- ASSERT -------------------------------------------------\r\n",
                "    EXEC tSQLt.AssertObjectExists @ObjectName = N'dbo.Person';\r\n",
                "\r\n",
                "END;"
            ],
            "metadata": {
                "azdata_cell_guid": "8565de84-fd5e-42a5-ade9-0e3a930eccc4"
            },
            "outputs": [],
            "execution_count": 2
        },
        {
            "cell_type": "markdown",
            "source": [
                "Run all the tests"
            ],
            "metadata": {
                "azdata_cell_guid": "b49b2ea6-eee1-40c8-9c63-40b98867e7e2"
            }
        },
        {
            "cell_type": "code",
            "source": [
                "USE [UnitTesting]\r\n",
                "GO\r\n",
                "EXEC tSQLt.RunAll;"
            ],
            "metadata": {
                "azdata_cell_guid": "30c2442f-96ef-448c-a64e-c90d41d8546a"
            },
            "outputs": [],
            "execution_count": 4
        },
        {
            "cell_type": "markdown",
            "source": [
                "Run specific test"
            ],
            "metadata": {
                "azdata_cell_guid": "7c84ddd9-0f50-4b85-a82e-558ae98b9f61"
            }
        },
        {
            "cell_type": "code",
            "source": [
                "USE [UnitTesting]\r\n",
                "GO\r\n",
                "EXEC tSQLt.Run @TestName = N'[TestBasic].[test If table dbo.Person exists]';"
            ],
            "metadata": {
                "azdata_cell_guid": "8fb3eb02-c582-40e2-acc9-0eeaa3733c13"
            },
            "outputs": [],
            "execution_count": 5
        }
    ]
}